{
 "cells": [
  {
   "cell_type": "code",
   "execution_count": null,
   "metadata": {},
   "outputs": [],
   "source": [
    "# File Handling (Py)\n",
    "# Python has the following built in functions and modes for halndling a file."
   ]
  },
  {
   "cell_type": "code",
   "execution_count": null,
   "metadata": {},
   "outputs": [],
   "source": [
    "#  The argument mode points to a string beginning with one of the following\n",
    "#  sequences (Additional characters may follow these sequences.):\n",
    "\n",
    "#  ``r''   Open text file for reading.  The stream is positioned at the\n",
    "#          beginning of the file.\n",
    "\n",
    "#  ``r+''  Open for reading and writing.  The stream is positioned at the\n",
    "#          beginning of the file.\n",
    "\n",
    "#  ``w''   Truncate file to zero length or create text file for writing.\n",
    "#          The stream is positioned at the beginning of the file.\n",
    "\n",
    "#  ``w+''  Open for reading and writing.  The file is created if it does not\n",
    "#          exist, otherwise it is truncated.  The stream is positioned at\n",
    "#          the beginning of the file.\n",
    "\n",
    "#  ``a''   Open for writing.  The file is created if it does not exist.  The\n",
    "#          stream is positioned at the end of the file.  Subsequent writes\n",
    "#          to the file will always end up at the then current end of file,\n",
    "#          irrespective of any intervening fseek(3) or similar.\n",
    "\n",
    "#  ``a+''  Open for reading and writing.  The file is created if it does not\n",
    "#          exist.  The stream is positioned at the end of the file.  Subse-\n",
    "#          quent writes to the file will always end up at the then current\n",
    "#          end of file, irrespective of any intervening fseek(3) or similar.\n",
    "\n",
    "\n",
    "\n",
    "#                   | r   r+   w   w+   a   a+\n",
    "# ------------------|--------------------------\n",
    "# read              | +   +        +        +\n",
    "# write             |     +    +   +    +   +\n",
    "# write after seek  |     +    +   +\n",
    "# create            |          +   +    +   +\n",
    "# truncate          |          +   +\n",
    "# position at start | +   +    +   +\n",
    "# position at end   |                   +   +"
   ]
  },
  {
   "cell_type": "code",
   "execution_count": 24,
   "metadata": {},
   "outputs": [],
   "source": [
    "# A new text file is created using the 'x' mode.\n",
    "# f=open(\"a.txt\",\"x\")\n",
    "\n",
    "f=open('a.txt','w+')\n",
    "f.write(\"Adding the text into the file, This text is present in the 'a.txt' file.\")\n",
    "f.close()"
   ]
  },
  {
   "cell_type": "code",
   "execution_count": 26,
   "metadata": {},
   "outputs": [
    {
     "name": "stdout",
     "output_type": "stream",
     "text": [
      "Adding the text into the file, This text is present in the 'a.txt' file.\n"
     ]
    }
   ],
   "source": [
    "f=open('a.txt','r+')\n",
    "print(f.read())\n",
    "f.close()"
   ]
  }
 ],
 "metadata": {
  "kernelspec": {
   "display_name": "Python 3",
   "language": "python",
   "name": "python3"
  },
  "language_info": {
   "codemirror_mode": {
    "name": "ipython",
    "version": 3
   },
   "file_extension": ".py",
   "mimetype": "text/x-python",
   "name": "python",
   "nbconvert_exporter": "python",
   "pygments_lexer": "ipython3",
   "version": "3.11.1 (tags/v3.11.1:a7a450f, Dec  6 2022, 19:58:39) [MSC v.1934 64 bit (AMD64)]"
  },
  "orig_nbformat": 4,
  "vscode": {
   "interpreter": {
    "hash": "93cabfb51b48d62a8ff71d110c9040261bef081167e495680f93f2d346155e30"
   }
  }
 },
 "nbformat": 4,
 "nbformat_minor": 2
}
