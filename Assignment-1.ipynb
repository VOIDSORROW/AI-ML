{
 "cells": [
  {
   "cell_type": "code",
   "execution_count": null,
   "metadata": {},
   "outputs": [],
   "source": [
    "# Assignment-1 (Py)\n",
    "# Pyhton has built in data structures for storing the data in a collective format.\n",
    "# These collective data types can store multiple individual data types.\n",
    "# The fundamental collective data types are: [ Lists, Tuples, Sets, Dictionaries ]."
   ]
  },
  {
   "cell_type": "code",
   "execution_count": null,
   "metadata": {},
   "outputs": [
    {
     "name": "stdout",
     "output_type": "stream",
     "text": [
      "['Hello', 'World', 2023, 70.5, True]\n",
      "[\"It's\", 'a good', 'day']\n",
      "['Hello', 'World', 2023, 70.5, True, \"It's\", 'a good', 'day']\n"
     ]
    }
   ],
   "source": [
    "# Lists\n",
    "# Lists has the capability to store multiple data types such as int, float, double, String, Boolean etc.\n",
    "# Lists are mutable which means lists can be modifiable.\n",
    "\n",
    "# Example\n",
    "list1=['Hello',2023,70.5,True]\n",
    "list2=[\"It's\",\"a good\",\"day\"]\n",
    "\n",
    "# Lists can be changable or modifiable.\n",
    "# list1.append('World')\n",
    "\n",
    "print(list1)\n",
    "\n",
    "list1.insert(1,'World')\n",
    "\n",
    "print(list1)\n",
    "print(list2)\n",
    "\n",
    "list1.extend(list2)\n",
    "print(list1)"
   ]
  },
  {
   "cell_type": "code",
   "execution_count": 1,
   "metadata": {},
   "outputs": [
    {
     "name": "stdout",
     "output_type": "stream",
     "text": [
      "('Hello', 2023, 70.5, True)\n",
      "(\"It's\", 'a good', 'day')\n"
     ]
    }
   ],
   "source": [
    "# Tuples\n",
    "# Tuples are way similar to lists and they differ in syntax as represented by ' () '.\n",
    "# Tuples cannot be modified after its declaration and they are immutable.\n",
    "\n",
    "# Example\n",
    "tuple1=('Hello',2023,70.5,True)\n",
    "tuple2=(\"It's\",\"a good\",\"day\")\n",
    "\n",
    "# Tuples are immutable.\n",
    "# tuple1.insert(1,'World')\n",
    "# tuple1.append('World')\n",
    "\n",
    "print(tuple1)\n",
    "print(tuple2)"
   ]
  },
  {
   "cell_type": "code",
   "execution_count": 16,
   "metadata": {},
   "outputs": [
    {
     "name": "stdout",
     "output_type": "stream",
     "text": [
      "1\n",
      "2\n",
      "World\n",
      "Hello\n",
      "1\n",
      "2\n",
      "3\n",
      "4\n",
      "5\n",
      "{1, 2, 3, 4, 5, 'Hello', 'World'}\n",
      "{1, 2}\n",
      "{'World', 'Hello'}\n"
     ]
    }
   ],
   "source": [
    "# Sets\n",
    "# Sets are used for storing the unordered data and represented syntactically with ' {} '.\n",
    "# Sets can not index the duplicate values.\n",
    "# Sets can useful in performing mathematical operations on the data like, (Intersection, Union, Difference, Symmetric difference).\n",
    "\n",
    "# Example\n",
    "set1={'Hello','World',1,2}\n",
    "set2={1,2,3,4,5,5}\n",
    "\n",
    "# print(set1)\n",
    "# print(set2)\n",
    "\n",
    "for i in set1:\n",
    "    print(i)\n",
    "for i in set2:\n",
    "    print(i)\n",
    "\n",
    "print(set1.union(set2))\n",
    "print(set1.intersection(set2))\n",
    "print(set1.difference(set2))"
   ]
  },
  {
   "cell_type": "code",
   "execution_count": 22,
   "metadata": {},
   "outputs": [
    {
     "name": "stdout",
     "output_type": "stream",
     "text": [
      "{1: 'voidsorrow', 2: 'prem', 3: 'shashi', 4: 'srinivas', 5: 'susheel'}\n",
      "voidsorrow\n"
     ]
    }
   ],
   "source": [
    "# Dictionaries\n",
    "# Dictionaries are used to map certain pair values as key value pairs.\n",
    "# Dicts add keys to the values and can be able to access the values according to the keys.\n",
    "\n",
    "# Example\n",
    "dict1={\n",
    "    1:'voidsorrow',\n",
    "    2:\"prem\",\n",
    "    3:\"shashi\",\n",
    "    4:\"srinivas\",\n",
    "    5:\"susheel\",\n",
    "}\n",
    "\n",
    "print(dict1)\n",
    "\n",
    "print(dict1[1])\n"
   ]
  }
 ],
 "metadata": {
  "kernelspec": {
   "display_name": "Python 3",
   "language": "python",
   "name": "python3"
  },
  "language_info": {
   "codemirror_mode": {
    "name": "ipython",
    "version": 3
   },
   "file_extension": ".py",
   "mimetype": "text/x-python",
   "name": "python",
   "nbconvert_exporter": "python",
   "pygments_lexer": "ipython3",
   "version": "3.11.1"
  },
  "orig_nbformat": 4,
  "vscode": {
   "interpreter": {
    "hash": "93cabfb51b48d62a8ff71d110c9040261bef081167e495680f93f2d346155e30"
   }
  }
 },
 "nbformat": 4,
 "nbformat_minor": 2
}
