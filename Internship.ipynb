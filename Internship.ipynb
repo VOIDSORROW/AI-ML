{
  "nbformat": 4,
  "nbformat_minor": 0,
  "metadata": {
    "colab": {
      "provenance": [],
      "authorship_tag": "ABX9TyMhVvVGUdf5r7qURghsfRp/",
      "include_colab_link": true
    },
    "kernelspec": {
      "name": "python3",
      "display_name": "Python 3"
    },
    "language_info": {
      "name": "python"
    },
    "gpuClass": "standard"
  },
  "cells": [
    {
      "cell_type": "markdown",
      "metadata": {
        "id": "view-in-github",
        "colab_type": "text"
      },
      "source": [
        "<a href=\"https://colab.research.google.com/github/VOIDSORROW/AI-ML/blob/main/Internship.ipynb\" target=\"_parent\"><img src=\"https://colab.research.google.com/assets/colab-badge.svg\" alt=\"Open In Colab\"/></a>"
      ]
    },
    {
      "cell_type": "markdown",
      "source": [
        "***ARTIFICIAL INTELLIGENCE (Recorded)***\n",
        "[Drive](https://drive.google.com/drive/folders/1bouvWyijZmxzUDtjwm3BjihYBe5QIn1W)"
      ],
      "metadata": {
        "id": "o8jx1GK_Oxbs"
      }
    },
    {
      "cell_type": "code",
      "execution_count": null,
      "metadata": {
        "id": "amOjkOpaPNNs"
      },
      "outputs": [],
      "source": [
        "#  .ipynb extension stands for \"Interactive Python Notebook\".\n",
        "# Shortcuts - Ctrl + enter, Alt + enter, Shift + enter."
      ]
    },
    {
      "cell_type": "code",
      "source": [
        "# PYTHON LIBRARIES\n",
        "# Numpy, Matplotlib, Pandas, Plotly, Seaborn, OpenCV, tweepy, Scipy"
      ],
      "metadata": {
        "id": "i1g19YbKQQBQ"
      },
      "execution_count": null,
      "outputs": []
    },
    {
      "cell_type": "code",
      "source": [
        "# 1) Numpy - Numerical Python. \n",
        "# It is an array.\n",
        "# It is used instead of Lists.\n",
        "# It is more faster and efficient than lists.\n",
        "# Methods to use: .size, .ndim, .shape.\n",
        "#  .size gives the total no of elements in the array. \n",
        "#  .ndim denotes the dimentionality of the array. \n",
        "#  .shape gives the length of rows and columns. [2,2]"
      ],
      "metadata": {
        "id": "MHVPSVi8QwaA"
      },
      "execution_count": null,
      "outputs": []
    },
    {
      "cell_type": "code",
      "source": [
        "import numpy as np\n",
        "a = np.array(1) # Scalar - as its ndim is 0.\n",
        "a1=np.array([1,2])\n",
        "# print(a)\n",
        "print(a.size)\n",
        "print(a.ndim)\n",
        "print(a1.ndim) # 1D - 1 dimensional. (Vector)\n",
        "print(a.shape)\n",
        "print(a1.shape) # Shape given as Columns x rows. [2,1]\n",
        "a"
      ],
      "metadata": {
        "colab": {
          "base_uri": "https://localhost:8080/"
        },
        "id": "Psnar352Upgz",
        "outputId": "4047d850-863d-4b7a-fac5-cd506405ea94"
      },
      "execution_count": null,
      "outputs": [
        {
          "output_type": "stream",
          "name": "stdout",
          "text": [
            "1\n",
            "0\n",
            "1\n",
            "()\n",
            "(2,)\n"
          ]
        },
        {
          "output_type": "execute_result",
          "data": {
            "text/plain": [
              "array(1)"
            ]
          },
          "metadata": {},
          "execution_count": 6
        }
      ]
    },
    {
      "cell_type": "code",
      "source": [
        "b=np.array([[1,2,3,4,5],[6,7,8,9,10]])\n",
        "print(b.size)\n",
        "print(b.ndim) # 2D - 2 dimensional. (Matrix)\n",
        "print(b.shape) # Shape given as rows x columns.\n",
        "b"
      ],
      "metadata": {
        "colab": {
          "base_uri": "https://localhost:8080/"
        },
        "id": "O57N6Bx-VsKB",
        "outputId": "c410cf15-55ca-4596-fad7-3807608a4342"
      },
      "execution_count": null,
      "outputs": [
        {
          "output_type": "stream",
          "name": "stdout",
          "text": [
            "10\n",
            "2\n",
            "(2, 5)\n"
          ]
        },
        {
          "output_type": "execute_result",
          "data": {
            "text/plain": [
              "array([[ 1,  2,  3,  4,  5],\n",
              "       [ 6,  7,  8,  9, 10]])"
            ]
          },
          "metadata": {},
          "execution_count": 7
        }
      ]
    },
    {
      "cell_type": "code",
      "source": [
        "# 2) MATPLOTLIB - (for Visualisation and Graphs)\n",
        "# i) Line plots.\n",
        "# ii) Scatter Plots.\n",
        "# iii) Bar Graphs."
      ],
      "metadata": {
        "id": "mtdDA60HWOvp"
      },
      "execution_count": null,
      "outputs": []
    },
    {
      "cell_type": "code",
      "source": [
        "# i) LINEPLOTS\n",
        "import matplotlib.pyplot as plt\n",
        "# a=[1,2,3,4,5,6,7,8,9,10]\n",
        "a=np.array([1,2,3,4,5,6,7,8,9,10])\n",
        "# b=[11,12,13,14,15,16,17,18,19,20]\n",
        "b=np.array([11,12,13,14,15,16,17,18,19,20])\n",
        "plt.plot(a,b, color='green', marker=\"^\")\n",
        "# plt.show()\n",
        "plt.title('LINE PLOT')\n",
        "plt.xlabel('1-10 X-axis')\n",
        "plt.ylabel('11-20 Y-axis')\n",
        "plt.xticks(range(0,11))\n",
        "plt.yticks(range(11,21))\n",
        "plt.grid()"
      ],
      "metadata": {
        "colab": {
          "base_uri": "https://localhost:8080/",
          "height": 295
        },
        "id": "DFU81Vt8ZSEQ",
        "outputId": "6c3f5455-57e5-4555-c68a-43775b774b28"
      },
      "execution_count": null,
      "outputs": [
        {
          "output_type": "display_data",
          "data": {
            "text/plain": [
              "<Figure size 432x288 with 1 Axes>"
            ],
            "image/png": "[encoded data removed]"
          },
          "metadata": {
            "needs_background": "light"
          }
        }
      ]
    },
    {
      "cell_type": "code",
      "source": [
        "# ii) SCATTER PLOTS\n",
        "a=np.array([1,2,3,4,5,6,7,8,9,10])\n",
        "b=np.array([11,12,13,14,15,16,17,18,19,20])\n",
        "plt.title('SCATTER PLOT')\n",
        "plt.xlabel('1-10 X-axis')\n",
        "plt.ylabel('11-20 Y-axis')\n",
        "plt.scatter(a,b,color='lime')\n",
        "plt.grid()"
      ],
      "metadata": {
        "colab": {
          "base_uri": "https://localhost:8080/",
          "height": 295
        },
        "id": "G-485368Z1Ml",
        "outputId": "f4c7c0b1-7c29-4fd5-efb2-11a467637a5e"
      },
      "execution_count": null,
      "outputs": [
        {
          "output_type": "display_data",
          "data": {
            "text/plain": [
              "<Figure size 432x288 with 1 Axes>"
            ],
            "image/png": "[encoded data removed]"
          },
          "metadata": {
            "needs_background": "light"
          }
        }
      ]
    },
    {
      "cell_type": "code",
      "source": [
        "# iii) BAR PLOTS/GRAPHS\n",
        "names=['voidsorrow','Lakshmi','srinivas']\n",
        "age=[20,20,25]\n",
        "plt.barh(names,age)"
      ],
      "metadata": {
        "id": "itsx43FagzWo",
        "colab": {
          "base_uri": "https://localhost:8080/",
          "height": 282
        },
        "outputId": "747bcbf3-40e2-485e-ef55-d6a89eae9248"
      },
      "execution_count": null,
      "outputs": [
        {
          "output_type": "execute_result",
          "data": {
            "text/plain": [
              "<BarContainer object of 3 artists>"
            ]
          },
          "metadata": {},
          "execution_count": 18
        },
        {
          "output_type": "display_data",
          "data": {
            "text/plain": [
              "<Figure size 432x288 with 1 Axes>"
            ],
            "image/png": "[encoded data removed]"
          },
          "metadata": {
            "needs_background": "light"
          }
        }
      ]
    },
    {
      "cell_type": "code",
      "source": [
        "# 3) PANDAS - Used to create series and DataFrames.\n",
        "#   i) DATAFRAMES - Used for creating tables [Tabled data] \n",
        "#   ii) SERIES - A column."
      ],
      "metadata": {
        "id": "7y6nPsftnSmR"
      },
      "execution_count": null,
      "outputs": []
    },
    {
      "cell_type": "code",
      "source": [
        "# Exploratory Data Analysis (EDA) - Pre ML\n",
        "# EDA - finds different insights, We conclude multiple facts, we explore our data.\n"
      ],
      "metadata": {
        "id": "5IAMa_r_qRfm"
      },
      "execution_count": null,
      "outputs": []
    },
    {
      "cell_type": "markdown",
      "source": [
        "Class - 3"
      ],
      "metadata": {
        "id": "x0GyCAEDxOLH"
      }
    },
    {
      "cell_type": "code",
      "source": [
        "# NULL Values\n",
        "# To check the null values in a data\n",
        "# data.info()\n",
        "# data.isnull().sum()"
      ],
      "metadata": {
        "id": "rDJWF7Wo0gmt"
      },
      "execution_count": null,
      "outputs": []
    },
    {
      "cell_type": "code",
      "source": [
        "# Slicing\n",
        "# variable [inclusive : exclusive]\n",
        "\n",
        "# For splincing/slicing the rows and columns together in a df or table we use \"iloc\"\n",
        "# df.iloc(row slicing [inclusive : exclusive] , column slicing [inclusive : exclusive])"
      ],
      "metadata": {
        "id": "sJFQLSYLxMBE"
      },
      "execution_count": null,
      "outputs": []
    },
    {
      "cell_type": "code",
      "source": [
        "# counting the elements in the data \n",
        "# df.count()\n",
        "\n",
        "# counting the elements in a specific column \n",
        "# df.column_name.nunique()\n",
        "# df['column_name'].nunique()\n",
        "\n",
        "# displaying the elements in the specific column\n",
        "# df.column_name.unique()\n",
        "# df['column_name'].unique()\n",
        "\n",
        "# df.groupby(column_name).size()   defalut --> sort is TRUE\n",
        "# groupby sorts elements in alphabetical order\n",
        "# df.groupby(column_name , sort = false)"
      ],
      "metadata": {
        "id": "CpfPyPRT2bOQ"
      },
      "execution_count": null,
      "outputs": []
    },
    {
      "cell_type": "markdown",
      "source": [
        "***PYTHON PROGRAMMING (LIVE)***"
      ],
      "metadata": {
        "id": "yyOGooyTPQ8l"
      }
    },
    {
      "cell_type": "markdown",
      "source": [
        "*Lec-1 (13 Jan)*\n",
        "[link text](https://colab.research.google.com/drive/1qnrf6E5AGlMJbzsZkjz3Nq2N4IkUGF7R?usp=sharing)"
      ],
      "metadata": {
        "id": "ZRzJ8QWkPdYI"
      }
    },
    {
      "cell_type": "code",
      "source": [
        "# Variables -> data containers\n",
        "# INTEGER Datatype\n",
        "num=10\n",
        "_num=20\n",
        "__num__=30\n",
        "a=0\n",
        "print(a)\n",
        "print(type(a))\n",
        "print(num)\n",
        "print(_num)\n",
        "print(__num__)\n",
        "# Checking the data type of the variable.\n",
        "print(type(num))\n",
        "print(type(_num))\n",
        "print(type(__num__))\n",
        "\n",
        "# addition\n",
        "a=10\n",
        "b=20\n",
        "sum=a+b\n",
        "print(sum)\n",
        "\n",
        "# Subtraction\n",
        "sub=b-a\n",
        "print(sub)\n",
        "\n",
        "# Multiplication\n",
        "mult=a*b\n",
        "print(mult)\n",
        "\n",
        "# Division\n",
        "div=b/a\n",
        "print(div)"
      ],
      "metadata": {
        "colab": {
          "base_uri": "https://localhost:8080/"
        },
        "id": "4zf-_PfyPZOj",
        "outputId": "46200370-84fe-487f-97ec-ed98910b9b3f"
      },
      "execution_count": null,
      "outputs": [
        {
          "output_type": "stream",
          "name": "stdout",
          "text": [
            "0\n",
            "<class 'int'>\n"
          ]
        }
      ]
    },
    {
      "cell_type": "code",
      "source": [
        "# STRINGS -> Set of charecters written inside of single or double quote.\n"
      ],
      "metadata": {
        "id": "cxEY8uK7QY3G"
      },
      "execution_count": null,
      "outputs": []
    },
    {
      "cell_type": "code",
      "source": [
        "# Boolean -> returns Either True or False.\n",
        "print(3>7)"
      ],
      "metadata": {
        "colab": {
          "base_uri": "https://localhost:8080/"
        },
        "id": "IEp-q8OWTHIU",
        "outputId": "2bc37909-b65b-42e4-b6b8-8457031eb3c9"
      },
      "execution_count": null,
      "outputs": [
        {
          "output_type": "stream",
          "name": "stdout",
          "text": [
            "False\n"
          ]
        }
      ]
    },
    {
      "cell_type": "code",
      "source": [
        "# Concatenation  -> Merging different data types.\n",
        "a=\"Hello\"\n",
        "b=\" \"\n",
        "c=\"World\"\n",
        "d=\".\"\n",
        "e=\"It's\"\n",
        "f=2022\n",
        "print(a,b,c,d,e,f)"
      ],
      "metadata": {
        "colab": {
          "base_uri": "https://localhost:8080/"
        },
        "id": "16pAU-VeTSJD",
        "outputId": "1092819e-be61-4143-cc4e-a60af0e98f7d"
      },
      "execution_count": null,
      "outputs": [
        {
          "output_type": "stream",
          "name": "stdout",
          "text": [
            "Hello   World . It's 2022\n"
          ]
        }
      ]
    },
    {
      "cell_type": "code",
      "source": [
        "import string\n",
        "# INPUT - taking input from the user.\n",
        "# x=input(\"Enter a Nuber: \")\n",
        "# print(\"Number is:\",x)\n",
        "\n",
        "# changing the datatype of user input.\n",
        "x=int(input(\"Enter a Number: \"))\n",
        "y=input(\"Enter another Number: \")\n",
        "print(x)\n",
        "print(type(x))\n",
        "print(y)\n",
        "print(type(y))"
      ],
      "metadata": {
        "colab": {
          "base_uri": "https://localhost:8080/"
        },
        "id": "--gpRIznUM85",
        "outputId": "da65808b-abdb-4d2b-a1ea-1f836f0fd589"
      },
      "execution_count": null,
      "outputs": [
        {
          "output_type": "stream",
          "name": "stdout",
          "text": [
            "Enter a Number: 10\n",
            "Enter another Number: 10\n",
            "10\n",
            "<class 'int'>\n",
            "10\n",
            "<class 'str'>\n"
          ]
        }
      ]
    },
    {
      "cell_type": "code",
      "source": [],
      "metadata": {
        "id": "n22-W2JGVu2T"
      },
      "execution_count": null,
      "outputs": []
    },
    {
      "cell_type": "markdown",
      "source": [
        "Lec-2 (19 Jan)"
      ],
      "metadata": {
        "id": "QcV7wAA5FezT"
      }
    },
    {
      "cell_type": "code",
      "source": [
        "# Dictionaries\n",
        "# -->dictionaries are mutable.\n",
        "\n",
        "my_dict={\n",
        "    'name':'Voidsorrow',\n",
        "    'age':19,\n",
        "    'branch':'CSE-AI'\n",
        "}\n",
        "# my_dict\n",
        "\n",
        "list1=[1,2,3,4,5]\n",
        "list2=['one','two','three','four','five']\n",
        "for i in my_dict:\n",
        "  # list1[i]:list[i]\n",
        "  print(my_dict)\n",
        "  # print(list1)\n",
        "  # print(list2)\n",
        "# my_dict"
      ],
      "metadata": {
        "colab": {
          "base_uri": "https://localhost:8080/",
          "height": 235
        },
        "id": "oGLX5TDKFo0P",
        "outputId": "9847cbce-b082-4c5a-fa3f-25e9ba070e07"
      },
      "execution_count": null,
      "outputs": [
        {
          "output_type": "error",
          "ename": "TypeError",
          "evalue": "ignored",
          "traceback": [
            "\u001b[0;31m---------------------------------------------------------------------------\u001b[0m",
            "\u001b[0;31mTypeError\u001b[0m                                 Traceback (most recent call last)",
            "\u001b[0;32m<ipython-input-8-acf2f6940145>\u001b[0m in \u001b[0;36m<module>\u001b[0;34m\u001b[0m\n\u001b[1;32m     12\u001b[0m \u001b[0mlist2\u001b[0m\u001b[0;34m=\u001b[0m\u001b[0;34m[\u001b[0m\u001b[0;34m'one'\u001b[0m\u001b[0;34m,\u001b[0m\u001b[0;34m'two'\u001b[0m\u001b[0;34m,\u001b[0m\u001b[0;34m'three'\u001b[0m\u001b[0;34m,\u001b[0m\u001b[0;34m'four'\u001b[0m\u001b[0;34m,\u001b[0m\u001b[0;34m'five'\u001b[0m\u001b[0;34m]\u001b[0m\u001b[0;34m\u001b[0m\u001b[0;34m\u001b[0m\u001b[0m\n\u001b[1;32m     13\u001b[0m \u001b[0;32mfor\u001b[0m \u001b[0mi\u001b[0m \u001b[0;32min\u001b[0m \u001b[0mmy_dict\u001b[0m\u001b[0;34m:\u001b[0m\u001b[0;34m\u001b[0m\u001b[0;34m\u001b[0m\u001b[0m\n\u001b[0;32m---> 14\u001b[0;31m   \u001b[0mlist1\u001b[0m\u001b[0;34m[\u001b[0m\u001b[0mi\u001b[0m\u001b[0;34m]\u001b[0m\u001b[0;34m:\u001b[0m\u001b[0mlist\u001b[0m\u001b[0;34m[\u001b[0m\u001b[0mi\u001b[0m\u001b[0;34m]\u001b[0m\u001b[0;34m\u001b[0m\u001b[0;34m\u001b[0m\u001b[0m\n\u001b[0m\u001b[1;32m     15\u001b[0m   \u001b[0mprint\u001b[0m\u001b[0;34m(\u001b[0m\u001b[0mmy_dict\u001b[0m\u001b[0;34m)\u001b[0m\u001b[0;34m\u001b[0m\u001b[0;34m\u001b[0m\u001b[0m\n\u001b[1;32m     16\u001b[0m   \u001b[0;31m# print(list1)\u001b[0m\u001b[0;34m\u001b[0m\u001b[0;34m\u001b[0m\u001b[0;34m\u001b[0m\u001b[0m\n",
            "\u001b[0;31mTypeError\u001b[0m: 'type' object is not subscriptable"
          ]
        }
      ]
    },
    {
      "cell_type": "code",
      "source": [
        "list=[1,11,1,1,1,1,1]\n",
        "list"
      ],
      "metadata": {
        "colab": {
          "base_uri": "https://localhost:8080/"
        },
        "id": "VxZBe7SBJMZw",
        "outputId": "164a6fa1-d1bd-4dd5-9968-cfa498d98257"
      },
      "execution_count": null,
      "outputs": [
        {
          "output_type": "execute_result",
          "data": {
            "text/plain": [
              "[1, 11, 1, 1, 1, 1, 1]"
            ]
          },
          "metadata": {},
          "execution_count": 9
        }
      ]
    },
    {
      "cell_type": "code",
      "source": [
        "# Sets -> unordered collection of datatypes. -{}\n",
        "set={'voidsorrow',19,'cse-ai'}\n",
        "set\n",
        "for i in set:\n",
        "  print(i)\n",
        "set.add('hello')\n",
        "set1={1,2,3,4,5}\n",
        "print(set.union(set1))"
      ],
      "metadata": {
        "colab": {
          "base_uri": "https://localhost:8080/"
        },
        "id": "MnmNxywvGdPM",
        "outputId": "a2cdc102-5b91-4b9b-f700-73660827516d"
      },
      "execution_count": null,
      "outputs": [
        {
          "output_type": "stream",
          "name": "stdout",
          "text": [
            "19\n",
            "voidsorrow\n",
            "cse-ai\n",
            "{1, 2, 3, 4, 'voidsorrow', 5, 19, 'hello', 'cse-ai'}\n"
          ]
        }
      ]
    },
    {
      "cell_type": "markdown",
      "source": [
        "Lec - 5 (23-01-2023)"
      ],
      "metadata": {
        "id": "mehjExOQxKTh"
      }
    },
    {
      "cell_type": "code",
      "source": [
        "# Files\n",
        "# Read mode\n",
        "# Write mode\n",
        "# Append mode"
      ],
      "metadata": {
        "id": "mHz4fBy5wyJc"
      },
      "execution_count": null,
      "outputs": []
    },
    {
      "cell_type": "code",
      "source": [
        "file=open('a.txt','r')\n",
        "print(file.read())"
      ],
      "metadata": {
        "colab": {
          "base_uri": "https://localhost:8080/"
        },
        "id": "u4CTi3qrxbu2",
        "outputId": "ebf4cefc-0c90-41db-c555-b27dcfb3b049"
      },
      "execution_count": null,
      "outputs": [
        {
          "output_type": "stream",
          "name": "stdout",
          "text": [
            "# Files\n",
            "# Read mode\n",
            "# Write mode\n",
            "# Append mode\n"
          ]
        }
      ]
    },
    {
      "cell_type": "code",
      "source": [
        "file.close()\n",
        "# print(file.read())"
      ],
      "metadata": {
        "colab": {
          "base_uri": "https://localhost:8080/",
          "height": 182
        },
        "id": "pjyMiXMmykSh",
        "outputId": "8ebc6568-9657-49f4-95a9-26a99dbcf172"
      },
      "execution_count": null,
      "outputs": [
        {
          "output_type": "error",
          "ename": "ValueError",
          "evalue": "ignored",
          "traceback": [
            "\u001b[0;31m---------------------------------------------------------------------------\u001b[0m",
            "\u001b[0;31mValueError\u001b[0m                                Traceback (most recent call last)",
            "\u001b[0;32m<ipython-input-4-2898b0297d94>\u001b[0m in \u001b[0;36m<module>\u001b[0;34m\u001b[0m\n\u001b[1;32m      1\u001b[0m \u001b[0mfile\u001b[0m\u001b[0;34m.\u001b[0m\u001b[0mclose\u001b[0m\u001b[0;34m(\u001b[0m\u001b[0;34m)\u001b[0m\u001b[0;34m\u001b[0m\u001b[0;34m\u001b[0m\u001b[0m\n\u001b[0;32m----> 2\u001b[0;31m \u001b[0mprint\u001b[0m\u001b[0;34m(\u001b[0m\u001b[0mfile\u001b[0m\u001b[0;34m.\u001b[0m\u001b[0mread\u001b[0m\u001b[0;34m(\u001b[0m\u001b[0;34m)\u001b[0m\u001b[0;34m)\u001b[0m\u001b[0;34m\u001b[0m\u001b[0;34m\u001b[0m\u001b[0m\n\u001b[0m",
            "\u001b[0;31mValueError\u001b[0m: I/O operation on closed file."
          ]
        }
      ]
    },
    {
      "cell_type": "code",
      "source": [
        "file=open('a.txt','w')\n",
        "file.write(\"Write\")"
      ],
      "metadata": {
        "colab": {
          "base_uri": "https://localhost:8080/"
        },
        "id": "KvNHLYn5ypUp",
        "outputId": "67731730-cd2f-409c-ec49-8e77d612f20f"
      },
      "execution_count": null,
      "outputs": [
        {
          "output_type": "execute_result",
          "data": {
            "text/plain": [
              "5"
            ]
          },
          "metadata": {},
          "execution_count": 6
        }
      ]
    },
    {
      "cell_type": "code",
      "source": [
        "file=open('s.txt','a')\n",
        "file.read()"
      ],
      "metadata": {
        "id": "oxC74SYkzR1I"
      },
      "execution_count": null,
      "outputs": []
    }
  ]
}